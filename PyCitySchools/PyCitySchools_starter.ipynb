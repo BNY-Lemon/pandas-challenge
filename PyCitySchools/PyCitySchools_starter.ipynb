{
 "cells": [
  {
   "cell_type": "markdown",
   "metadata": {},
   "source": [
    "### Note\n",
    "* Instructions have been included for each segment. You do not have to follow them exactly, but they are included to help you think through the steps."
   ]
  },
  {
   "cell_type": "code",
   "execution_count": 1,
   "metadata": {},
   "outputs": [
    {
     "output_type": "execute_result",
     "data": {
      "text/plain": "   Student ID       student_name gender grade        school_name  \\\n0           0       Paul Bradley      M   9th  Huang High School   \n1           1       Victor Smith      M  12th  Huang High School   \n2           2    Kevin Rodriguez      M  12th  Huang High School   \n3           3  Dr. Richard Scott      M  12th  Huang High School   \n4           4         Bonnie Ray      F   9th  Huang High School   \n\n   reading_score  math_score  School ID      type  size   budget  \n0             66          79          0  District  2917  1910635  \n1             94          61          0  District  2917  1910635  \n2             90          60          0  District  2917  1910635  \n3             67          58          0  District  2917  1910635  \n4             97          84          0  District  2917  1910635  ",
      "text/html": "<div>\n<style scoped>\n    .dataframe tbody tr th:only-of-type {\n        vertical-align: middle;\n    }\n\n    .dataframe tbody tr th {\n        vertical-align: top;\n    }\n\n    .dataframe thead th {\n        text-align: right;\n    }\n</style>\n<table border=\"1\" class=\"dataframe\">\n  <thead>\n    <tr style=\"text-align: right;\">\n      <th></th>\n      <th>Student ID</th>\n      <th>student_name</th>\n      <th>gender</th>\n      <th>grade</th>\n      <th>school_name</th>\n      <th>reading_score</th>\n      <th>math_score</th>\n      <th>School ID</th>\n      <th>type</th>\n      <th>size</th>\n      <th>budget</th>\n    </tr>\n  </thead>\n  <tbody>\n    <tr>\n      <th>0</th>\n      <td>0</td>\n      <td>Paul Bradley</td>\n      <td>M</td>\n      <td>9th</td>\n      <td>Huang High School</td>\n      <td>66</td>\n      <td>79</td>\n      <td>0</td>\n      <td>District</td>\n      <td>2917</td>\n      <td>1910635</td>\n    </tr>\n    <tr>\n      <th>1</th>\n      <td>1</td>\n      <td>Victor Smith</td>\n      <td>M</td>\n      <td>12th</td>\n      <td>Huang High School</td>\n      <td>94</td>\n      <td>61</td>\n      <td>0</td>\n      <td>District</td>\n      <td>2917</td>\n      <td>1910635</td>\n    </tr>\n    <tr>\n      <th>2</th>\n      <td>2</td>\n      <td>Kevin Rodriguez</td>\n      <td>M</td>\n      <td>12th</td>\n      <td>Huang High School</td>\n      <td>90</td>\n      <td>60</td>\n      <td>0</td>\n      <td>District</td>\n      <td>2917</td>\n      <td>1910635</td>\n    </tr>\n    <tr>\n      <th>3</th>\n      <td>3</td>\n      <td>Dr. Richard Scott</td>\n      <td>M</td>\n      <td>12th</td>\n      <td>Huang High School</td>\n      <td>67</td>\n      <td>58</td>\n      <td>0</td>\n      <td>District</td>\n      <td>2917</td>\n      <td>1910635</td>\n    </tr>\n    <tr>\n      <th>4</th>\n      <td>4</td>\n      <td>Bonnie Ray</td>\n      <td>F</td>\n      <td>9th</td>\n      <td>Huang High School</td>\n      <td>97</td>\n      <td>84</td>\n      <td>0</td>\n      <td>District</td>\n      <td>2917</td>\n      <td>1910635</td>\n    </tr>\n  </tbody>\n</table>\n</div>"
     },
     "metadata": {},
     "execution_count": 1
    }
   ],
   "source": [
    "# Dependencies and Setup\n",
    "import pandas as pd\n",
    "\n",
    "# File to Load (Remember to Change These)\n",
    "school_data_to_load = \"Resources/schools_complete.csv\"\n",
    "student_data_to_load = \"Resources/students_complete.csv\"\n",
    "\n",
    "# Read School and Student Data File and store into Pandas DataFrames\n",
    "school_data = pd.read_csv(school_data_to_load)\n",
    "student_data = pd.read_csv(student_data_to_load)\n",
    "\n",
    "# Combine the data into a single dataset.  \n",
    "school_data_complete = pd.merge(student_data, school_data, how=\"left\", on=[\"school_name\", \"school_name\"])\n",
    "school_data_complete.head()"
   ]
  },
  {
   "cell_type": "markdown",
   "metadata": {},
   "source": [
    "## District Summary\n",
    "\n",
    "* Calculate the total number of schools\n",
    "\n",
    "* Calculate the total number of students\n",
    "\n",
    "* Calculate the total budget\n",
    "\n",
    "* Calculate the average math score \n",
    "\n",
    "* Calculate the average reading score\n",
    "\n",
    "* Calculate the percentage of students with a passing math score (70 or greater)\n",
    "\n",
    "* Calculate the percentage of students with a passing reading score (70 or greater)\n",
    "\n",
    "* Calculate the percentage of students who passed math **and** reading (% Overall Passing)\n",
    "\n",
    "* Create a dataframe to hold the above results\n",
    "\n",
    "* Optional: give the displayed data cleaner formatting"
   ]
  },
  {
   "cell_type": "code",
   "execution_count": 2,
   "metadata": {
    "tags": []
   },
   "outputs": [
    {
     "output_type": "execute_result",
     "data": {
      "text/plain": "   Total Schools Total Students    Total Budget  Average Math Score  \\\n0             15         39,170  $24,649,428.00           78.985371   \n\n   Average Reading Score  % Passing Math  % Passing Reading  % Overall Passing  \n0               81.87784       74.980853          85.805463          65.172326  ",
      "text/html": "<div>\n<style scoped>\n    .dataframe tbody tr th:only-of-type {\n        vertical-align: middle;\n    }\n\n    .dataframe tbody tr th {\n        vertical-align: top;\n    }\n\n    .dataframe thead th {\n        text-align: right;\n    }\n</style>\n<table border=\"1\" class=\"dataframe\">\n  <thead>\n    <tr style=\"text-align: right;\">\n      <th></th>\n      <th>Total Schools</th>\n      <th>Total Students</th>\n      <th>Total Budget</th>\n      <th>Average Math Score</th>\n      <th>Average Reading Score</th>\n      <th>% Passing Math</th>\n      <th>% Passing Reading</th>\n      <th>% Overall Passing</th>\n    </tr>\n  </thead>\n  <tbody>\n    <tr>\n      <th>0</th>\n      <td>15</td>\n      <td>39,170</td>\n      <td>$24,649,428.00</td>\n      <td>78.985371</td>\n      <td>81.87784</td>\n      <td>74.980853</td>\n      <td>85.805463</td>\n      <td>65.172326</td>\n    </tr>\n  </tbody>\n</table>\n</div>"
     },
     "metadata": {},
     "execution_count": 2
    }
   ],
   "source": [
    "# Calculate the total number of schools\n",
    "total_schools_array = school_data_complete[\"school_name\"].unique()\n",
    "total_schools = len(total_schools_array)\n",
    "\n",
    "# Calculate the total number of students\n",
    "total_students_array = school_data_complete[\"student_name\"].value_counts()\n",
    "total_students = sum(total_students_array)\n",
    "\n",
    "# Calculate the total budget\n",
    "total_budget = school_data[\"budget\"].sum()\n",
    "\n",
    "# Calculate the average math score\n",
    "average_math = school_data_complete['math_score'].mean()\n",
    "\n",
    "# Calculate the reading math score\n",
    "average_reading = school_data_complete['reading_score'].mean()\n",
    "\n",
    "# Calculate the percentage of students with a passing math score (70 or greater)\n",
    "# Filtering the DF with a conditional\n",
    "school_data_filtered = school_data_complete[school_data_complete['math_score'] >= 70]\n",
    "percent_passing_math = school_data_filtered['Student ID'].count() / total_students\n",
    "\n",
    "# Calculate the percentage of students with a passing reading score (70 or greater)\n",
    "school_data_filtered_2 = school_data_complete[school_data_complete['reading_score'] >= 70]\n",
    "percent_passing_reading = school_data_filtered_2['Student ID'].count() / total_students\n",
    "percent_passing_reading\n",
    "\n",
    "# Calculate the percentage of students who passed math and reading (% Overall Passing)\n",
    "school_data_filtered_3 = school_data_complete[(school_data_complete['math_score'] >= 70) & (school_data_complete['reading_score'] >= 70)]\n",
    "school_data_filtered_3\n",
    "percent_passing_overall = school_data_filtered_3['Student ID'].count() / total_students\n",
    "\n",
    "# Create a dataframe to hold the above results\n",
    "results_df = pd.DataFrame({\"Total Schools\":total_schools, \"Total Students\": total_students, \"Total Budget\": total_budget, \"Average Math Score\": average_math, \"Average Reading Score\": average_reading, \"% Passing Math\": percent_passing_math, \"% Passing Reading\": percent_passing_reading, \"% Overall Passing\": percent_passing_overall}, index=[0])\n",
    "# Format items\n",
    "results_df[\"Total Students\"] = results_df[\"Total Students\"].map(\"{:,}\".format)\n",
    "results_df[\"Total Budget\"] = results_df[\"Total Budget\"].map(\"${:,.2f}\".format)\n",
    "results_df[\"% Passing Math\"] = results_df[\"% Passing Math\"] * 100\n",
    "results_df[\"% Passing Reading\"] = results_df[\"% Passing Reading\"] * 100\n",
    "results_df[\"% Overall Passing\"] = results_df[\"% Overall Passing\"] * 100\n",
    "results_df"
   ]
  },
  {
   "cell_type": "markdown",
   "metadata": {},
   "source": [
    "## School Summary"
   ]
  },
  {
   "cell_type": "markdown",
   "metadata": {},
   "source": [
    "* Create an overview table that summarizes key metrics about each school, including:\n",
    "  * School Name\n",
    "  * School Type\n",
    "  * Total Students\n",
    "  * Total School Budget\n",
    "  * Per Student Budget\n",
    "  * Average Math Score\n",
    "  * Average Reading Score\n",
    "  * % Passing Math\n",
    "  * % Passing Reading\n",
    "  * % Overall Passing (The percentage of students that passed math **and** reading.)\n",
    "  \n",
    "* Create a dataframe to hold the above results"
   ]
  },
  {
   "cell_type": "code",
   "execution_count": 101,
   "metadata": {},
   "outputs": [
    {
     "output_type": "execute_result",
     "data": {
      "text/plain": "                      School Type  Total Students Total School Budget  \\\nschool_name                                                             \nBailey High School       District            4976       $3,124,928.00   \nCabrera High School       Charter            1858       $1,081,356.00   \nFigueroa High School     District            2949       $1,884,411.00   \nFord High School         District            2739       $1,763,916.00   \nGriffin High School       Charter            1468         $917,500.00   \nHernandez High School    District            4635       $3,022,020.00   \nHolden High School        Charter             427         $248,087.00   \nHuang High School        District            2917       $1,910,635.00   \nJohnson High School      District            4761       $3,094,650.00   \nPena High School          Charter             962         $585,858.00   \nRodriguez High School    District            3999       $2,547,363.00   \nShelton High School       Charter            1761       $1,056,600.00   \nThomas High School        Charter            1635       $1,043,130.00   \nWilson High School        Charter            2283       $1,319,574.00   \nWright High School        Charter            1800       $1,049,400.00   \n\n                      Per Student Budget  Average Math Score  \\\nschool_name                                                    \nBailey High School               $628.00           77.048432   \nCabrera High School              $582.00           83.061895   \nFigueroa High School             $639.00           76.711767   \nFord High School                 $644.00           77.102592   \nGriffin High School              $625.00           83.351499   \nHernandez High School            $652.00           77.289752   \nHolden High School               $581.00           83.803279   \nHuang High School                $655.00           76.629414   \nJohnson High School              $650.00           77.072464   \nPena High School                 $609.00           83.839917   \nRodriguez High School            $637.00           76.842711   \nShelton High School              $600.00           83.359455   \nThomas High School               $638.00           83.418349   \nWilson High School               $578.00           83.274201   \nWright High School               $583.00           83.682222   \n\n                       Average Reading Score  % Passing Math  \\\nschool_name                                                    \nBailey High School                 81.033963       66.680064   \nCabrera High School                83.975780       94.133477   \nFigueroa High School               81.158020       65.988471   \nFord High School                   80.746258       68.309602   \nGriffin High School                83.816757       93.392371   \nHernandez High School              80.934412       66.752967   \nHolden High School                 83.814988       92.505855   \nHuang High School                  81.182722       65.683922   \nJohnson High School                80.966394       66.057551   \nPena High School                   84.044699       94.594595   \nRodriguez High School              80.744686       66.366592   \nShelton High School                83.725724       93.867121   \nThomas High School                 83.848930       93.272171   \nWilson High School                 83.989488       93.867718   \nWright High School                 83.955000       93.333333   \n\n                       % Passing Reading  % Overall Passing  \nschool_name                                                  \nBailey High School             81.933280          54.642283  \nCabrera High School            97.039828          91.334769  \nFigueroa High School           80.739234          53.204476  \nFord High School               79.299014          54.289887  \nGriffin High School            97.138965          90.599455  \nHernandez High School          80.862999          53.527508  \nHolden High School             96.252927          89.227166  \nHuang High School              81.316421          53.513884  \nJohnson High School            81.222432          53.539172  \nPena High School               95.945946          90.540541  \nRodriguez High School          80.220055          52.988247  \nShelton High School            95.854628          89.892107  \nThomas High School             97.308869          90.948012  \nWilson High School             96.539641          90.582567  \nWright High School             96.611111          90.333333  ",
      "text/html": "<div>\n<style scoped>\n    .dataframe tbody tr th:only-of-type {\n        vertical-align: middle;\n    }\n\n    .dataframe tbody tr th {\n        vertical-align: top;\n    }\n\n    .dataframe thead th {\n        text-align: right;\n    }\n</style>\n<table border=\"1\" class=\"dataframe\">\n  <thead>\n    <tr style=\"text-align: right;\">\n      <th></th>\n      <th>School Type</th>\n      <th>Total Students</th>\n      <th>Total School Budget</th>\n      <th>Per Student Budget</th>\n      <th>Average Math Score</th>\n      <th>Average Reading Score</th>\n      <th>% Passing Math</th>\n      <th>% Passing Reading</th>\n      <th>% Overall Passing</th>\n    </tr>\n    <tr>\n      <th>school_name</th>\n      <th></th>\n      <th></th>\n      <th></th>\n      <th></th>\n      <th></th>\n      <th></th>\n      <th></th>\n      <th></th>\n      <th></th>\n    </tr>\n  </thead>\n  <tbody>\n    <tr>\n      <th>Bailey High School</th>\n      <td>District</td>\n      <td>4976</td>\n      <td>$3,124,928.00</td>\n      <td>$628.00</td>\n      <td>77.048432</td>\n      <td>81.033963</td>\n      <td>66.680064</td>\n      <td>81.933280</td>\n      <td>54.642283</td>\n    </tr>\n    <tr>\n      <th>Cabrera High School</th>\n      <td>Charter</td>\n      <td>1858</td>\n      <td>$1,081,356.00</td>\n      <td>$582.00</td>\n      <td>83.061895</td>\n      <td>83.975780</td>\n      <td>94.133477</td>\n      <td>97.039828</td>\n      <td>91.334769</td>\n    </tr>\n    <tr>\n      <th>Figueroa High School</th>\n      <td>District</td>\n      <td>2949</td>\n      <td>$1,884,411.00</td>\n      <td>$639.00</td>\n      <td>76.711767</td>\n      <td>81.158020</td>\n      <td>65.988471</td>\n      <td>80.739234</td>\n      <td>53.204476</td>\n    </tr>\n    <tr>\n      <th>Ford High School</th>\n      <td>District</td>\n      <td>2739</td>\n      <td>$1,763,916.00</td>\n      <td>$644.00</td>\n      <td>77.102592</td>\n      <td>80.746258</td>\n      <td>68.309602</td>\n      <td>79.299014</td>\n      <td>54.289887</td>\n    </tr>\n    <tr>\n      <th>Griffin High School</th>\n      <td>Charter</td>\n      <td>1468</td>\n      <td>$917,500.00</td>\n      <td>$625.00</td>\n      <td>83.351499</td>\n      <td>83.816757</td>\n      <td>93.392371</td>\n      <td>97.138965</td>\n      <td>90.599455</td>\n    </tr>\n    <tr>\n      <th>Hernandez High School</th>\n      <td>District</td>\n      <td>4635</td>\n      <td>$3,022,020.00</td>\n      <td>$652.00</td>\n      <td>77.289752</td>\n      <td>80.934412</td>\n      <td>66.752967</td>\n      <td>80.862999</td>\n      <td>53.527508</td>\n    </tr>\n    <tr>\n      <th>Holden High School</th>\n      <td>Charter</td>\n      <td>427</td>\n      <td>$248,087.00</td>\n      <td>$581.00</td>\n      <td>83.803279</td>\n      <td>83.814988</td>\n      <td>92.505855</td>\n      <td>96.252927</td>\n      <td>89.227166</td>\n    </tr>\n    <tr>\n      <th>Huang High School</th>\n      <td>District</td>\n      <td>2917</td>\n      <td>$1,910,635.00</td>\n      <td>$655.00</td>\n      <td>76.629414</td>\n      <td>81.182722</td>\n      <td>65.683922</td>\n      <td>81.316421</td>\n      <td>53.513884</td>\n    </tr>\n    <tr>\n      <th>Johnson High School</th>\n      <td>District</td>\n      <td>4761</td>\n      <td>$3,094,650.00</td>\n      <td>$650.00</td>\n      <td>77.072464</td>\n      <td>80.966394</td>\n      <td>66.057551</td>\n      <td>81.222432</td>\n      <td>53.539172</td>\n    </tr>\n    <tr>\n      <th>Pena High School</th>\n      <td>Charter</td>\n      <td>962</td>\n      <td>$585,858.00</td>\n      <td>$609.00</td>\n      <td>83.839917</td>\n      <td>84.044699</td>\n      <td>94.594595</td>\n      <td>95.945946</td>\n      <td>90.540541</td>\n    </tr>\n    <tr>\n      <th>Rodriguez High School</th>\n      <td>District</td>\n      <td>3999</td>\n      <td>$2,547,363.00</td>\n      <td>$637.00</td>\n      <td>76.842711</td>\n      <td>80.744686</td>\n      <td>66.366592</td>\n      <td>80.220055</td>\n      <td>52.988247</td>\n    </tr>\n    <tr>\n      <th>Shelton High School</th>\n      <td>Charter</td>\n      <td>1761</td>\n      <td>$1,056,600.00</td>\n      <td>$600.00</td>\n      <td>83.359455</td>\n      <td>83.725724</td>\n      <td>93.867121</td>\n      <td>95.854628</td>\n      <td>89.892107</td>\n    </tr>\n    <tr>\n      <th>Thomas High School</th>\n      <td>Charter</td>\n      <td>1635</td>\n      <td>$1,043,130.00</td>\n      <td>$638.00</td>\n      <td>83.418349</td>\n      <td>83.848930</td>\n      <td>93.272171</td>\n      <td>97.308869</td>\n      <td>90.948012</td>\n    </tr>\n    <tr>\n      <th>Wilson High School</th>\n      <td>Charter</td>\n      <td>2283</td>\n      <td>$1,319,574.00</td>\n      <td>$578.00</td>\n      <td>83.274201</td>\n      <td>83.989488</td>\n      <td>93.867718</td>\n      <td>96.539641</td>\n      <td>90.582567</td>\n    </tr>\n    <tr>\n      <th>Wright High School</th>\n      <td>Charter</td>\n      <td>1800</td>\n      <td>$1,049,400.00</td>\n      <td>$583.00</td>\n      <td>83.682222</td>\n      <td>83.955000</td>\n      <td>93.333333</td>\n      <td>96.611111</td>\n      <td>90.333333</td>\n    </tr>\n  </tbody>\n</table>\n</div>"
     },
     "metadata": {},
     "execution_count": 101
    }
   ],
   "source": [
    "# Building the Data Frame\n",
    "sdc_gp = school_data_complete.groupby(\"school_name\")\n",
    "sd_copy = school_data.copy()\n",
    "sd_df = sd_copy.set_index(\"school_name\").drop(columns=\"School ID\").sort_values(by=\"school_name\", ascending=True)\n",
    "sd_df[\"Per Student Budget\"] = sd_df[\"budget\"] / sd_df[\"size\"] \n",
    "sd_df[[\"Average Math Score\", \"Average Reading Score\"]] = sdc_gp.mean()[[\"math_score\", \"reading_score\"]]\n",
    "\n",
    "# Calculating the harder elements on a seperate DF\n",
    "my_filter_math = school_data_complete[\"math_score\"] >= 70\n",
    "my_filter_reading = school_data_complete[\"reading_score\"] >= 70\n",
    "sg_math = school_data_complete[my_filter_math].groupby(\"school_name\")[\"math_score\"]\n",
    "sg_reading = school_data_complete[my_filter_reading].groupby(\"school_name\")[\"reading_score\"]\n",
    "\n",
    "percents_df = pd.DataFrame({\n",
    "    \"% Passing Math\": sg_math.count() / sdc_gp.count()[\"type\"]*100,\n",
    "    \"% Passing Reading\": sg_reading.count() / sdc_gp.count()[\"type\"]*100,\n",
    "    \"% Overall Passing\": school_data_complete[(my_filter_math) & (my_filter_reading)] \\\n",
    "        .groupby(\"school_name\") \\\n",
    "        .count()[\"reading_score\"] / \\\n",
    "        sdc_gp.count()[\"type\"]*100\n",
    "})\n",
    "\n",
    "\n",
    "# Merging the 2 DF's and formatting\n",
    "school_summary = sd_df.merge(percents_df, on=[\"school_name\"])\n",
    "school_summary = school_summary.rename(columns={\n",
    "    \"type\": \"School Type\", \n",
    "    \"size\": \"Total Students\", \n",
    "    \"budget\": \"Total School Budget\"\n",
    "})\n",
    "school_summary[\"Total School Budget\"] = school_summary[\"Total School Budget\"].map(\"${:,.2f}\".format)\n",
    "school_summary[\"Per Student Budget\"] = school_summary[\"Per Student Budget\"].map(\"${:,.2f}\".format)\n",
    "school_summary"
   ]
  },
  {
   "cell_type": "code",
   "execution_count": 102,
   "metadata": {},
   "outputs": [],
   "source": [
    "# Initial attempt - keeping code commented out as reference\n",
    "# gp = school_data_complete.groupby([\"school_name\"])\n",
    "# student_count = gp.count()[\"type\"]\n",
    "# average_scores = gp.mean()[[\"reading_score\", \"math_score\"]]\n",
    "# data = [student_count, average_scores[\"math_score\"], average_scores[\"reading_score\"]]\n",
    "# df = pd.DataFrame({\"Avg Math Score\": average_scores[\"math_score\"], \"Avg Reading Score\": average_scores[\"reading_score\"]}, index=gp.indices)\n",
    "# df.reset_index(inplace=True)\n",
    "# df = df.rename(columns={\"index\": \"school_name\"})\n",
    "# school_data_ext = school_data.merge(df, on=[\"school_name\"])\n",
    "# school_data_ext = school_data_ext.sort_values(by=\"school_name\", ascending=True)\n",
    "# school_data_ext[\"Per Student Budget\"] = school_data_ext[\"budget\"] / school_data_ext[\"size\"]\n",
    "# school_data_ext = school_data_ext.drop(columns=\"School ID\")\n",
    "# school_data_ext = school_data_ext[[\"school_name\",\"type\",\"size\",\"budget\",\"Per Student Budget\",\"Avg Math Score\",\"Avg Reading Score\"]]\n",
    "# student_data_math_df = school_data_complete[school_data_complete[\"math_score\"]>=70]\n",
    "# grouped_by = student_data_math_df.groupby([\"school_name\"])\n",
    "# school_data_ext[\"% Passing Math\"] = grouped_by.count()[\"math_score\"] / school_data_complete[\"school_name\"].value_counts()\n",
    "# school_data_ext"
   ]
  },
  {
   "cell_type": "markdown",
   "metadata": {},
   "source": [
    "## Top Performing Schools (By % Overall Passing)"
   ]
  },
  {
   "cell_type": "markdown",
   "metadata": {},
   "source": [
    "* Sort and display the top five performing schools by % overall passing."
   ]
  },
  {
   "cell_type": "code",
   "execution_count": null,
   "metadata": {
    "scrolled": true
   },
   "outputs": [],
   "source": []
  },
  {
   "cell_type": "markdown",
   "metadata": {},
   "source": [
    "## Bottom Performing Schools (By % Overall Passing)"
   ]
  },
  {
   "cell_type": "markdown",
   "metadata": {},
   "source": [
    "* Sort and display the five worst-performing schools by % overall passing."
   ]
  },
  {
   "cell_type": "code",
   "execution_count": null,
   "metadata": {},
   "outputs": [],
   "source": []
  },
  {
   "cell_type": "markdown",
   "metadata": {
    "collapsed": true
   },
   "source": [
    "## Math Scores by Grade"
   ]
  },
  {
   "cell_type": "markdown",
   "metadata": {},
   "source": [
    "* Create a table that lists the average Reading Score for students of each grade level (9th, 10th, 11th, 12th) at each school.\n",
    "\n",
    "  * Create a pandas series for each grade. Hint: use a conditional statement.\n",
    "  \n",
    "  * Group each series by school\n",
    "  \n",
    "  * Combine the series into a dataframe\n",
    "  \n",
    "  * Optional: give the displayed data cleaner formatting"
   ]
  },
  {
   "cell_type": "code",
   "execution_count": null,
   "metadata": {},
   "outputs": [],
   "source": []
  },
  {
   "cell_type": "markdown",
   "metadata": {},
   "source": [
    "## Reading Score by Grade "
   ]
  },
  {
   "cell_type": "markdown",
   "metadata": {},
   "source": [
    "* Perform the same operations as above for reading scores"
   ]
  },
  {
   "cell_type": "code",
   "execution_count": null,
   "metadata": {},
   "outputs": [],
   "source": []
  },
  {
   "cell_type": "markdown",
   "metadata": {},
   "source": [
    "## Scores by School Spending"
   ]
  },
  {
   "cell_type": "markdown",
   "metadata": {},
   "source": [
    "* Create a table that breaks down school performances based on average Spending Ranges (Per Student). Use 4 reasonable bins to group school spending. Include in the table each of the following:\n",
    "  * Average Math Score\n",
    "  * Average Reading Score\n",
    "  * % Passing Math\n",
    "  * % Passing Reading\n",
    "  * Overall Passing Rate (Average of the above two)"
   ]
  },
  {
   "cell_type": "code",
   "execution_count": null,
   "metadata": {},
   "outputs": [],
   "source": []
  },
  {
   "cell_type": "markdown",
   "metadata": {},
   "source": [
    "## Scores by School Size"
   ]
  },
  {
   "cell_type": "markdown",
   "metadata": {},
   "source": [
    "* Perform the same operations as above, based on school size."
   ]
  },
  {
   "cell_type": "code",
   "execution_count": null,
   "metadata": {
    "scrolled": true
   },
   "outputs": [],
   "source": []
  },
  {
   "cell_type": "markdown",
   "metadata": {},
   "source": [
    "## Scores by School Type"
   ]
  },
  {
   "cell_type": "markdown",
   "metadata": {},
   "source": [
    "* Perform the same operations as above, based on school type"
   ]
  },
  {
   "cell_type": "code",
   "execution_count": null,
   "metadata": {},
   "outputs": [],
   "source": []
  },
  {
   "cell_type": "code",
   "execution_count": null,
   "metadata": {},
   "outputs": [],
   "source": []
  }
 ],
 "metadata": {
  "anaconda-cloud": {},
  "kernel_info": {
   "name": "python3"
  },
  "kernelspec": {
   "display_name": "Python 3",
   "language": "python",
   "name": "python3"
  },
  "language_info": {
   "codemirror_mode": {
    "name": "ipython",
    "version": 3
   },
   "file_extension": ".py",
   "mimetype": "text/x-python",
   "name": "python",
   "nbconvert_exporter": "python",
   "pygments_lexer": "ipython3",
   "version": "3.7.6-final"
  },
  "latex_envs": {
   "LaTeX_envs_menu_present": true,
   "autoclose": false,
   "autocomplete": true,
   "bibliofile": "biblio.bib",
   "cite_by": "apalike",
   "current_citInitial": 1,
   "eqLabelWithNumbers": true,
   "eqNumInitial": 1,
   "hotkeys": {
    "equation": "Ctrl-E",
    "itemize": "Ctrl-I"
   },
   "labels_anchors": false,
   "latex_user_defs": false,
   "report_style_numbering": false,
   "user_envs_cfg": false
  },
  "nteract": {
   "version": "0.8.4"
  }
 },
 "nbformat": 4,
 "nbformat_minor": 1
}